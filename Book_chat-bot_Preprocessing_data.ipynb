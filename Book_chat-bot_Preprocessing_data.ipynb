{
 "cells": [
  {
   "cell_type": "code",
   "execution_count": 1,
   "id": "85661bb6-4cfa-4341-a5b5-146dbadf36de",
   "metadata": {},
   "outputs": [],
   "source": [
    "import pandas as pd\n",
    "from sklearn.preprocessing import LabelEncoder, StandardScaler\n",
    "from sklearn.model_selection import train_test_split"
   ]
  },
  {
   "cell_type": "code",
   "execution_count": 2,
   "id": "7e86dc06-45f2-4539-ae08-7f1c61e95f6b",
   "metadata": {},
   "outputs": [
    {
     "name": "stderr",
     "output_type": "stream",
     "text": [
      "C:\\Users\\Palak\\AppData\\Local\\Temp\\ipykernel_1884\\2959857750.py:1: DtypeWarning: Columns (3) have mixed types. Specify dtype option on import or set low_memory=False.\n",
      "  books_df = pd.read_csv('Datasets/Book recommendation chatbot/Books.csv')\n"
     ]
    }
   ],
   "source": [
    "books_df = pd.read_csv('Datasets/Book recommendation chatbot/Books.csv')\n",
    "ratings_df = pd.read_csv('Datasets/Book recommendation chatbot/Ratings.csv')\n",
    "users_df = pd.read_csv('Datasets/Book recommendation chatbot/Users.csv')"
   ]
  },
  {
   "cell_type": "code",
   "execution_count": 3,
   "id": "ad53df1c-87db-4a18-9969-72718a29322b",
   "metadata": {},
   "outputs": [
    {
     "data": {
      "text/html": [
       "<div>\n",
       "<style scoped>\n",
       "    .dataframe tbody tr th:only-of-type {\n",
       "        vertical-align: middle;\n",
       "    }\n",
       "\n",
       "    .dataframe tbody tr th {\n",
       "        vertical-align: top;\n",
       "    }\n",
       "\n",
       "    .dataframe thead th {\n",
       "        text-align: right;\n",
       "    }\n",
       "</style>\n",
       "<table border=\"1\" class=\"dataframe\">\n",
       "  <thead>\n",
       "    <tr style=\"text-align: right;\">\n",
       "      <th></th>\n",
       "      <th>ISBN</th>\n",
       "      <th>Book-Title</th>\n",
       "      <th>Book-Author</th>\n",
       "      <th>Year-Of-Publication</th>\n",
       "      <th>Publisher</th>\n",
       "      <th>Image-URL-S</th>\n",
       "      <th>Image-URL-M</th>\n",
       "      <th>Image-URL-L</th>\n",
       "    </tr>\n",
       "  </thead>\n",
       "  <tbody>\n",
       "    <tr>\n",
       "      <th>0</th>\n",
       "      <td>0195153448</td>\n",
       "      <td>Classical Mythology</td>\n",
       "      <td>Mark P. O. Morford</td>\n",
       "      <td>2002</td>\n",
       "      <td>Oxford University Press</td>\n",
       "      <td>http://images.amazon.com/images/P/0195153448.0...</td>\n",
       "      <td>http://images.amazon.com/images/P/0195153448.0...</td>\n",
       "      <td>http://images.amazon.com/images/P/0195153448.0...</td>\n",
       "    </tr>\n",
       "    <tr>\n",
       "      <th>1</th>\n",
       "      <td>0002005018</td>\n",
       "      <td>Clara Callan</td>\n",
       "      <td>Richard Bruce Wright</td>\n",
       "      <td>2001</td>\n",
       "      <td>HarperFlamingo Canada</td>\n",
       "      <td>http://images.amazon.com/images/P/0002005018.0...</td>\n",
       "      <td>http://images.amazon.com/images/P/0002005018.0...</td>\n",
       "      <td>http://images.amazon.com/images/P/0002005018.0...</td>\n",
       "    </tr>\n",
       "    <tr>\n",
       "      <th>2</th>\n",
       "      <td>0060973129</td>\n",
       "      <td>Decision in Normandy</td>\n",
       "      <td>Carlo D'Este</td>\n",
       "      <td>1991</td>\n",
       "      <td>HarperPerennial</td>\n",
       "      <td>http://images.amazon.com/images/P/0060973129.0...</td>\n",
       "      <td>http://images.amazon.com/images/P/0060973129.0...</td>\n",
       "      <td>http://images.amazon.com/images/P/0060973129.0...</td>\n",
       "    </tr>\n",
       "    <tr>\n",
       "      <th>3</th>\n",
       "      <td>0374157065</td>\n",
       "      <td>Flu: The Story of the Great Influenza Pandemic...</td>\n",
       "      <td>Gina Bari Kolata</td>\n",
       "      <td>1999</td>\n",
       "      <td>Farrar Straus Giroux</td>\n",
       "      <td>http://images.amazon.com/images/P/0374157065.0...</td>\n",
       "      <td>http://images.amazon.com/images/P/0374157065.0...</td>\n",
       "      <td>http://images.amazon.com/images/P/0374157065.0...</td>\n",
       "    </tr>\n",
       "    <tr>\n",
       "      <th>4</th>\n",
       "      <td>0393045218</td>\n",
       "      <td>The Mummies of Urumchi</td>\n",
       "      <td>E. J. W. Barber</td>\n",
       "      <td>1999</td>\n",
       "      <td>W. W. Norton &amp;amp; Company</td>\n",
       "      <td>http://images.amazon.com/images/P/0393045218.0...</td>\n",
       "      <td>http://images.amazon.com/images/P/0393045218.0...</td>\n",
       "      <td>http://images.amazon.com/images/P/0393045218.0...</td>\n",
       "    </tr>\n",
       "  </tbody>\n",
       "</table>\n",
       "</div>"
      ],
      "text/plain": [
       "         ISBN                                         Book-Title  \\\n",
       "0  0195153448                                Classical Mythology   \n",
       "1  0002005018                                       Clara Callan   \n",
       "2  0060973129                               Decision in Normandy   \n",
       "3  0374157065  Flu: The Story of the Great Influenza Pandemic...   \n",
       "4  0393045218                             The Mummies of Urumchi   \n",
       "\n",
       "            Book-Author Year-Of-Publication                   Publisher  \\\n",
       "0    Mark P. O. Morford                2002     Oxford University Press   \n",
       "1  Richard Bruce Wright                2001       HarperFlamingo Canada   \n",
       "2          Carlo D'Este                1991             HarperPerennial   \n",
       "3      Gina Bari Kolata                1999        Farrar Straus Giroux   \n",
       "4       E. J. W. Barber                1999  W. W. Norton &amp; Company   \n",
       "\n",
       "                                         Image-URL-S  \\\n",
       "0  http://images.amazon.com/images/P/0195153448.0...   \n",
       "1  http://images.amazon.com/images/P/0002005018.0...   \n",
       "2  http://images.amazon.com/images/P/0060973129.0...   \n",
       "3  http://images.amazon.com/images/P/0374157065.0...   \n",
       "4  http://images.amazon.com/images/P/0393045218.0...   \n",
       "\n",
       "                                         Image-URL-M  \\\n",
       "0  http://images.amazon.com/images/P/0195153448.0...   \n",
       "1  http://images.amazon.com/images/P/0002005018.0...   \n",
       "2  http://images.amazon.com/images/P/0060973129.0...   \n",
       "3  http://images.amazon.com/images/P/0374157065.0...   \n",
       "4  http://images.amazon.com/images/P/0393045218.0...   \n",
       "\n",
       "                                         Image-URL-L  \n",
       "0  http://images.amazon.com/images/P/0195153448.0...  \n",
       "1  http://images.amazon.com/images/P/0002005018.0...  \n",
       "2  http://images.amazon.com/images/P/0060973129.0...  \n",
       "3  http://images.amazon.com/images/P/0374157065.0...  \n",
       "4  http://images.amazon.com/images/P/0393045218.0...  "
      ]
     },
     "execution_count": 3,
     "metadata": {},
     "output_type": "execute_result"
    }
   ],
   "source": [
    "books_df.head()"
   ]
  },
  {
   "cell_type": "code",
   "execution_count": 4,
   "id": "b7023f96-8686-4702-bda5-6950b8966519",
   "metadata": {},
   "outputs": [
    {
     "data": {
      "text/html": [
       "<div>\n",
       "<style scoped>\n",
       "    .dataframe tbody tr th:only-of-type {\n",
       "        vertical-align: middle;\n",
       "    }\n",
       "\n",
       "    .dataframe tbody tr th {\n",
       "        vertical-align: top;\n",
       "    }\n",
       "\n",
       "    .dataframe thead th {\n",
       "        text-align: right;\n",
       "    }\n",
       "</style>\n",
       "<table border=\"1\" class=\"dataframe\">\n",
       "  <thead>\n",
       "    <tr style=\"text-align: right;\">\n",
       "      <th></th>\n",
       "      <th>User-ID</th>\n",
       "      <th>ISBN</th>\n",
       "      <th>Book-Rating</th>\n",
       "    </tr>\n",
       "  </thead>\n",
       "  <tbody>\n",
       "    <tr>\n",
       "      <th>0</th>\n",
       "      <td>276725</td>\n",
       "      <td>034545104X</td>\n",
       "      <td>0</td>\n",
       "    </tr>\n",
       "    <tr>\n",
       "      <th>1</th>\n",
       "      <td>276726</td>\n",
       "      <td>0155061224</td>\n",
       "      <td>5</td>\n",
       "    </tr>\n",
       "    <tr>\n",
       "      <th>2</th>\n",
       "      <td>276727</td>\n",
       "      <td>0446520802</td>\n",
       "      <td>0</td>\n",
       "    </tr>\n",
       "    <tr>\n",
       "      <th>3</th>\n",
       "      <td>276729</td>\n",
       "      <td>052165615X</td>\n",
       "      <td>3</td>\n",
       "    </tr>\n",
       "    <tr>\n",
       "      <th>4</th>\n",
       "      <td>276729</td>\n",
       "      <td>0521795028</td>\n",
       "      <td>6</td>\n",
       "    </tr>\n",
       "  </tbody>\n",
       "</table>\n",
       "</div>"
      ],
      "text/plain": [
       "   User-ID        ISBN  Book-Rating\n",
       "0   276725  034545104X            0\n",
       "1   276726  0155061224            5\n",
       "2   276727  0446520802            0\n",
       "3   276729  052165615X            3\n",
       "4   276729  0521795028            6"
      ]
     },
     "execution_count": 4,
     "metadata": {},
     "output_type": "execute_result"
    }
   ],
   "source": [
    "ratings_df.head()"
   ]
  },
  {
   "cell_type": "code",
   "execution_count": 5,
   "id": "c4d798a2-0b5f-4664-8e6b-19d4cf5af951",
   "metadata": {},
   "outputs": [
    {
     "data": {
      "text/html": [
       "<div>\n",
       "<style scoped>\n",
       "    .dataframe tbody tr th:only-of-type {\n",
       "        vertical-align: middle;\n",
       "    }\n",
       "\n",
       "    .dataframe tbody tr th {\n",
       "        vertical-align: top;\n",
       "    }\n",
       "\n",
       "    .dataframe thead th {\n",
       "        text-align: right;\n",
       "    }\n",
       "</style>\n",
       "<table border=\"1\" class=\"dataframe\">\n",
       "  <thead>\n",
       "    <tr style=\"text-align: right;\">\n",
       "      <th></th>\n",
       "      <th>User-ID</th>\n",
       "      <th>Location</th>\n",
       "      <th>Age</th>\n",
       "    </tr>\n",
       "  </thead>\n",
       "  <tbody>\n",
       "    <tr>\n",
       "      <th>0</th>\n",
       "      <td>1</td>\n",
       "      <td>nyc, new york, usa</td>\n",
       "      <td>NaN</td>\n",
       "    </tr>\n",
       "    <tr>\n",
       "      <th>1</th>\n",
       "      <td>2</td>\n",
       "      <td>stockton, california, usa</td>\n",
       "      <td>18.0</td>\n",
       "    </tr>\n",
       "    <tr>\n",
       "      <th>2</th>\n",
       "      <td>3</td>\n",
       "      <td>moscow, yukon territory, russia</td>\n",
       "      <td>NaN</td>\n",
       "    </tr>\n",
       "    <tr>\n",
       "      <th>3</th>\n",
       "      <td>4</td>\n",
       "      <td>porto, v.n.gaia, portugal</td>\n",
       "      <td>17.0</td>\n",
       "    </tr>\n",
       "    <tr>\n",
       "      <th>4</th>\n",
       "      <td>5</td>\n",
       "      <td>farnborough, hants, united kingdom</td>\n",
       "      <td>NaN</td>\n",
       "    </tr>\n",
       "  </tbody>\n",
       "</table>\n",
       "</div>"
      ],
      "text/plain": [
       "   User-ID                            Location   Age\n",
       "0        1                  nyc, new york, usa   NaN\n",
       "1        2           stockton, california, usa  18.0\n",
       "2        3     moscow, yukon territory, russia   NaN\n",
       "3        4           porto, v.n.gaia, portugal  17.0\n",
       "4        5  farnborough, hants, united kingdom   NaN"
      ]
     },
     "execution_count": 5,
     "metadata": {},
     "output_type": "execute_result"
    }
   ],
   "source": [
    "users_df.head()"
   ]
  },
  {
   "cell_type": "code",
   "execution_count": 6,
   "id": "6fd5999a-9080-4c0e-bd8f-8d6e1ff77bce",
   "metadata": {},
   "outputs": [
    {
     "data": {
      "text/plain": [
       "ISBN                   0\n",
       "Book-Title             0\n",
       "Book-Author            2\n",
       "Year-Of-Publication    0\n",
       "Publisher              2\n",
       "Image-URL-S            0\n",
       "Image-URL-M            0\n",
       "Image-URL-L            3\n",
       "dtype: int64"
      ]
     },
     "execution_count": 6,
     "metadata": {},
     "output_type": "execute_result"
    }
   ],
   "source": [
    "books_df.isna().sum()"
   ]
  },
  {
   "cell_type": "code",
   "execution_count": 7,
   "id": "6dcbba16-104a-481f-a692-27168aaa9733",
   "metadata": {},
   "outputs": [
    {
     "data": {
      "text/plain": [
       "User-ID          0\n",
       "Location         0\n",
       "Age         110762\n",
       "dtype: int64"
      ]
     },
     "execution_count": 7,
     "metadata": {},
     "output_type": "execute_result"
    }
   ],
   "source": [
    "users_df.isna().sum()"
   ]
  },
  {
   "cell_type": "code",
   "execution_count": 8,
   "id": "f687ee73-6bec-4e5a-9710-aa0021cb9205",
   "metadata": {},
   "outputs": [],
   "source": [
    "from sklearn.impute import SimpleImputer\n",
    "import numpy as np"
   ]
  },
  {
   "cell_type": "code",
   "execution_count": 9,
   "id": "12cbdf38-d55e-4f89-a268-b3dca08343b4",
   "metadata": {},
   "outputs": [],
   "source": [
    "imputer = SimpleImputer(strategy = 'median')"
   ]
  },
  {
   "cell_type": "code",
   "execution_count": 10,
   "id": "7cc83307-78cf-4794-a35f-a26ab8f41f30",
   "metadata": {},
   "outputs": [],
   "source": [
    "users_df['age'] = imputer.fit_transform(users_df[['Age']])"
   ]
  },
  {
   "cell_type": "code",
   "execution_count": 11,
   "id": "2d2b1a61-b2b3-4f53-9411-f4fc678c3bb8",
   "metadata": {},
   "outputs": [
    {
     "data": {
      "text/plain": [
       "User-ID          0\n",
       "Location         0\n",
       "Age         110762\n",
       "age              0\n",
       "dtype: int64"
      ]
     },
     "execution_count": 11,
     "metadata": {},
     "output_type": "execute_result"
    }
   ],
   "source": [
    "users_df.isna().sum()"
   ]
  },
  {
   "cell_type": "code",
   "execution_count": 12,
   "id": "861c5863-19d2-41b0-a7bc-81f7c1ae2622",
   "metadata": {},
   "outputs": [
    {
     "data": {
      "text/plain": [
       "User-ID        0\n",
       "ISBN           0\n",
       "Book-Rating    0\n",
       "dtype: int64"
      ]
     },
     "execution_count": 12,
     "metadata": {},
     "output_type": "execute_result"
    }
   ],
   "source": [
    "ratings_df.isna().sum()"
   ]
  },
  {
   "cell_type": "code",
   "execution_count": 13,
   "id": "d814cdbc-f2b6-4608-a3b7-109fe06aa389",
   "metadata": {},
   "outputs": [
    {
     "name": "stdout",
     "output_type": "stream",
     "text": [
      "<class 'pandas.core.frame.DataFrame'>\n",
      "RangeIndex: 271360 entries, 0 to 271359\n",
      "Data columns (total 8 columns):\n",
      " #   Column               Non-Null Count   Dtype \n",
      "---  ------               --------------   ----- \n",
      " 0   ISBN                 271360 non-null  object\n",
      " 1   Book-Title           271360 non-null  object\n",
      " 2   Book-Author          271358 non-null  object\n",
      " 3   Year-Of-Publication  271360 non-null  object\n",
      " 4   Publisher            271358 non-null  object\n",
      " 5   Image-URL-S          271360 non-null  object\n",
      " 6   Image-URL-M          271360 non-null  object\n",
      " 7   Image-URL-L          271357 non-null  object\n",
      "dtypes: object(8)\n",
      "memory usage: 16.6+ MB\n"
     ]
    }
   ],
   "source": [
    "books_df.info()"
   ]
  },
  {
   "cell_type": "code",
   "execution_count": 14,
   "id": "071b1fe4-a7b2-4622-90ba-ae96fb4a0853",
   "metadata": {},
   "outputs": [
    {
     "name": "stdout",
     "output_type": "stream",
     "text": [
      "<class 'pandas.core.frame.DataFrame'>\n",
      "RangeIndex: 1149780 entries, 0 to 1149779\n",
      "Data columns (total 3 columns):\n",
      " #   Column       Non-Null Count    Dtype \n",
      "---  ------       --------------    ----- \n",
      " 0   User-ID      1149780 non-null  int64 \n",
      " 1   ISBN         1149780 non-null  object\n",
      " 2   Book-Rating  1149780 non-null  int64 \n",
      "dtypes: int64(2), object(1)\n",
      "memory usage: 26.3+ MB\n"
     ]
    }
   ],
   "source": [
    "ratings_df.info()"
   ]
  },
  {
   "cell_type": "code",
   "execution_count": 15,
   "id": "3942345c-ba22-46c7-a438-451042138969",
   "metadata": {},
   "outputs": [],
   "source": [
    "label_encoders = {}\n",
    "for column in ['ISBN']:\n",
    "    le = LabelEncoder()\n",
    "    ratings_df[column] = le.fit_transform(ratings_df[column])\n",
    "    books_df[column] = le.fit_transform(books_df[column])\n",
    "    label_encoders[column] = le"
   ]
  },
  {
   "cell_type": "code",
   "execution_count": 16,
   "id": "753270e2-4284-4e0d-8af2-89e8dbadab24",
   "metadata": {},
   "outputs": [],
   "source": [
    "scaler = StandardScaler()\n",
    "users_df['Age'] = scaler.fit_transform(users_df[['Age']])"
   ]
  },
  {
   "cell_type": "code",
   "execution_count": 17,
   "id": "98c287f8-9225-47e8-bef7-2ae60a97fffa",
   "metadata": {},
   "outputs": [],
   "source": [
    "books_df['Book-Author'].fillna('Unknown Author', inplace=True)\n",
    "books_df['Publisher'].fillna('Unknown Publisher', inplace=True)"
   ]
  },
  {
   "cell_type": "code",
   "execution_count": 18,
   "id": "2637b772-d3a8-4bd4-a6d7-4f52265f7c1c",
   "metadata": {},
   "outputs": [],
   "source": [
    "merged_df = pd.merge(pd.merge(ratings_df, books_df, on = 'ISBN'), users_df, on = 'User-ID')"
   ]
  },
  {
   "cell_type": "code",
   "execution_count": 19,
   "id": "135ee023-0c6b-4683-9ea5-c3ec70e0943e",
   "metadata": {},
   "outputs": [
    {
     "data": {
      "text/html": [
       "<div>\n",
       "<style scoped>\n",
       "    .dataframe tbody tr th:only-of-type {\n",
       "        vertical-align: middle;\n",
       "    }\n",
       "\n",
       "    .dataframe tbody tr th {\n",
       "        vertical-align: top;\n",
       "    }\n",
       "\n",
       "    .dataframe thead th {\n",
       "        text-align: right;\n",
       "    }\n",
       "</style>\n",
       "<table border=\"1\" class=\"dataframe\">\n",
       "  <thead>\n",
       "    <tr style=\"text-align: right;\">\n",
       "      <th></th>\n",
       "      <th>User-ID</th>\n",
       "      <th>ISBN</th>\n",
       "      <th>Book-Rating</th>\n",
       "      <th>Book-Title</th>\n",
       "      <th>Book-Author</th>\n",
       "      <th>Year-Of-Publication</th>\n",
       "      <th>Publisher</th>\n",
       "      <th>Image-URL-S</th>\n",
       "      <th>Image-URL-M</th>\n",
       "      <th>Image-URL-L</th>\n",
       "      <th>Location</th>\n",
       "      <th>Age</th>\n",
       "      <th>age</th>\n",
       "    </tr>\n",
       "  </thead>\n",
       "  <tbody>\n",
       "    <tr>\n",
       "      <th>0</th>\n",
       "      <td>276725</td>\n",
       "      <td>57188</td>\n",
       "      <td>0</td>\n",
       "      <td>Dangerous Interloper (Harlequin Collector's Ed...</td>\n",
       "      <td>Penny Jordan</td>\n",
       "      <td>1997</td>\n",
       "      <td>Harlequin</td>\n",
       "      <td>http://images.amazon.com/images/P/0373630727.0...</td>\n",
       "      <td>http://images.amazon.com/images/P/0373630727.0...</td>\n",
       "      <td>http://images.amazon.com/images/P/0373630727.0...</td>\n",
       "      <td>tyler, texas, usa</td>\n",
       "      <td>NaN</td>\n",
       "      <td>32.0</td>\n",
       "    </tr>\n",
       "    <tr>\n",
       "      <th>1</th>\n",
       "      <td>2313</td>\n",
       "      <td>57188</td>\n",
       "      <td>5</td>\n",
       "      <td>Dangerous Interloper (Harlequin Collector's Ed...</td>\n",
       "      <td>Penny Jordan</td>\n",
       "      <td>1997</td>\n",
       "      <td>Harlequin</td>\n",
       "      <td>http://images.amazon.com/images/P/0373630727.0...</td>\n",
       "      <td>http://images.amazon.com/images/P/0373630727.0...</td>\n",
       "      <td>http://images.amazon.com/images/P/0373630727.0...</td>\n",
       "      <td>cincinnati, ohio, usa</td>\n",
       "      <td>-0.814485</td>\n",
       "      <td>23.0</td>\n",
       "    </tr>\n",
       "    <tr>\n",
       "      <th>2</th>\n",
       "      <td>2313</td>\n",
       "      <td>208821</td>\n",
       "      <td>9</td>\n",
       "      <td>Loving God</td>\n",
       "      <td>Charles Colson</td>\n",
       "      <td>1995</td>\n",
       "      <td>Billy Graham Evangelistic Association</td>\n",
       "      <td>http://images.amazon.com/images/P/0913367494.0...</td>\n",
       "      <td>http://images.amazon.com/images/P/0913367494.0...</td>\n",
       "      <td>http://images.amazon.com/images/P/0913367494.0...</td>\n",
       "      <td>cincinnati, ohio, usa</td>\n",
       "      <td>-0.814485</td>\n",
       "      <td>23.0</td>\n",
       "    </tr>\n",
       "    <tr>\n",
       "      <th>3</th>\n",
       "      <td>2313</td>\n",
       "      <td>166104</td>\n",
       "      <td>8</td>\n",
       "      <td>The 85 Ways to Tie a Tie: The Science and Aest...</td>\n",
       "      <td>Thomas Fink</td>\n",
       "      <td>2000</td>\n",
       "      <td>Broadway Books</td>\n",
       "      <td>http://images.amazon.com/images/P/0767906438.0...</td>\n",
       "      <td>http://images.amazon.com/images/P/0767906438.0...</td>\n",
       "      <td>http://images.amazon.com/images/P/0767906438.0...</td>\n",
       "      <td>cincinnati, ohio, usa</td>\n",
       "      <td>-0.814485</td>\n",
       "      <td>23.0</td>\n",
       "    </tr>\n",
       "    <tr>\n",
       "      <th>4</th>\n",
       "      <td>2313</td>\n",
       "      <td>6338</td>\n",
       "      <td>9</td>\n",
       "      <td>The Sacred Journey : A Memoir of Early Days</td>\n",
       "      <td>Frederick Buechner</td>\n",
       "      <td>1991</td>\n",
       "      <td>HarperSanFrancisco</td>\n",
       "      <td>http://images.amazon.com/images/P/0060611839.0...</td>\n",
       "      <td>http://images.amazon.com/images/P/0060611839.0...</td>\n",
       "      <td>http://images.amazon.com/images/P/0060611839.0...</td>\n",
       "      <td>cincinnati, ohio, usa</td>\n",
       "      <td>-0.814485</td>\n",
       "      <td>23.0</td>\n",
       "    </tr>\n",
       "  </tbody>\n",
       "</table>\n",
       "</div>"
      ],
      "text/plain": [
       "   User-ID    ISBN  Book-Rating  \\\n",
       "0   276725   57188            0   \n",
       "1     2313   57188            5   \n",
       "2     2313  208821            9   \n",
       "3     2313  166104            8   \n",
       "4     2313    6338            9   \n",
       "\n",
       "                                          Book-Title         Book-Author  \\\n",
       "0  Dangerous Interloper (Harlequin Collector's Ed...        Penny Jordan   \n",
       "1  Dangerous Interloper (Harlequin Collector's Ed...        Penny Jordan   \n",
       "2                                         Loving God      Charles Colson   \n",
       "3  The 85 Ways to Tie a Tie: The Science and Aest...         Thomas Fink   \n",
       "4        The Sacred Journey : A Memoir of Early Days  Frederick Buechner   \n",
       "\n",
       "  Year-Of-Publication                              Publisher  \\\n",
       "0                1997                              Harlequin   \n",
       "1                1997                              Harlequin   \n",
       "2                1995  Billy Graham Evangelistic Association   \n",
       "3                2000                         Broadway Books   \n",
       "4                1991                     HarperSanFrancisco   \n",
       "\n",
       "                                         Image-URL-S  \\\n",
       "0  http://images.amazon.com/images/P/0373630727.0...   \n",
       "1  http://images.amazon.com/images/P/0373630727.0...   \n",
       "2  http://images.amazon.com/images/P/0913367494.0...   \n",
       "3  http://images.amazon.com/images/P/0767906438.0...   \n",
       "4  http://images.amazon.com/images/P/0060611839.0...   \n",
       "\n",
       "                                         Image-URL-M  \\\n",
       "0  http://images.amazon.com/images/P/0373630727.0...   \n",
       "1  http://images.amazon.com/images/P/0373630727.0...   \n",
       "2  http://images.amazon.com/images/P/0913367494.0...   \n",
       "3  http://images.amazon.com/images/P/0767906438.0...   \n",
       "4  http://images.amazon.com/images/P/0060611839.0...   \n",
       "\n",
       "                                         Image-URL-L               Location  \\\n",
       "0  http://images.amazon.com/images/P/0373630727.0...      tyler, texas, usa   \n",
       "1  http://images.amazon.com/images/P/0373630727.0...  cincinnati, ohio, usa   \n",
       "2  http://images.amazon.com/images/P/0913367494.0...  cincinnati, ohio, usa   \n",
       "3  http://images.amazon.com/images/P/0767906438.0...  cincinnati, ohio, usa   \n",
       "4  http://images.amazon.com/images/P/0060611839.0...  cincinnati, ohio, usa   \n",
       "\n",
       "        Age   age  \n",
       "0       NaN  32.0  \n",
       "1 -0.814485  23.0  \n",
       "2 -0.814485  23.0  \n",
       "3 -0.814485  23.0  \n",
       "4 -0.814485  23.0  "
      ]
     },
     "execution_count": 19,
     "metadata": {},
     "output_type": "execute_result"
    }
   ],
   "source": [
    "merged_df.head()"
   ]
  },
  {
   "cell_type": "code",
   "execution_count": 20,
   "id": "7e3517ad-3c7e-47ef-97c2-9b7f651c614b",
   "metadata": {},
   "outputs": [
    {
     "data": {
      "text/plain": [
       "User-ID                     0\n",
       "ISBN                        0\n",
       "Book-Rating                 0\n",
       "Book-Title                  0\n",
       "Book-Author                 0\n",
       "Year-Of-Publication         0\n",
       "Publisher                   0\n",
       "Image-URL-S                 0\n",
       "Image-URL-M                 0\n",
       "Image-URL-L                 3\n",
       "Location                    0\n",
       "Age                    281885\n",
       "age                         0\n",
       "dtype: int64"
      ]
     },
     "execution_count": 20,
     "metadata": {},
     "output_type": "execute_result"
    }
   ],
   "source": [
    "merged_df.isna().sum()"
   ]
  },
  {
   "cell_type": "code",
   "execution_count": 21,
   "id": "93f1c492-d151-472e-ad6d-8739ed977fa5",
   "metadata": {},
   "outputs": [],
   "source": [
    "merged_df.drop(columns = ['Age','Image-URL-L', 'Image-URL-M' ,'Image-URL-S', 'Location'], inplace = True)"
   ]
  },
  {
   "cell_type": "code",
   "execution_count": 22,
   "id": "d33e0a87-980c-43a5-bb53-44d562cddb98",
   "metadata": {},
   "outputs": [
    {
     "data": {
      "text/html": [
       "<div>\n",
       "<style scoped>\n",
       "    .dataframe tbody tr th:only-of-type {\n",
       "        vertical-align: middle;\n",
       "    }\n",
       "\n",
       "    .dataframe tbody tr th {\n",
       "        vertical-align: top;\n",
       "    }\n",
       "\n",
       "    .dataframe thead th {\n",
       "        text-align: right;\n",
       "    }\n",
       "</style>\n",
       "<table border=\"1\" class=\"dataframe\">\n",
       "  <thead>\n",
       "    <tr style=\"text-align: right;\">\n",
       "      <th></th>\n",
       "      <th>User-ID</th>\n",
       "      <th>ISBN</th>\n",
       "      <th>Book-Rating</th>\n",
       "      <th>Book-Title</th>\n",
       "      <th>Book-Author</th>\n",
       "      <th>Year-Of-Publication</th>\n",
       "      <th>Publisher</th>\n",
       "      <th>age</th>\n",
       "    </tr>\n",
       "  </thead>\n",
       "  <tbody>\n",
       "    <tr>\n",
       "      <th>0</th>\n",
       "      <td>276725</td>\n",
       "      <td>57188</td>\n",
       "      <td>0</td>\n",
       "      <td>Dangerous Interloper (Harlequin Collector's Ed...</td>\n",
       "      <td>Penny Jordan</td>\n",
       "      <td>1997</td>\n",
       "      <td>Harlequin</td>\n",
       "      <td>32.0</td>\n",
       "    </tr>\n",
       "    <tr>\n",
       "      <th>1</th>\n",
       "      <td>2313</td>\n",
       "      <td>57188</td>\n",
       "      <td>5</td>\n",
       "      <td>Dangerous Interloper (Harlequin Collector's Ed...</td>\n",
       "      <td>Penny Jordan</td>\n",
       "      <td>1997</td>\n",
       "      <td>Harlequin</td>\n",
       "      <td>23.0</td>\n",
       "    </tr>\n",
       "    <tr>\n",
       "      <th>2</th>\n",
       "      <td>2313</td>\n",
       "      <td>208821</td>\n",
       "      <td>9</td>\n",
       "      <td>Loving God</td>\n",
       "      <td>Charles Colson</td>\n",
       "      <td>1995</td>\n",
       "      <td>Billy Graham Evangelistic Association</td>\n",
       "      <td>23.0</td>\n",
       "    </tr>\n",
       "    <tr>\n",
       "      <th>3</th>\n",
       "      <td>2313</td>\n",
       "      <td>166104</td>\n",
       "      <td>8</td>\n",
       "      <td>The 85 Ways to Tie a Tie: The Science and Aest...</td>\n",
       "      <td>Thomas Fink</td>\n",
       "      <td>2000</td>\n",
       "      <td>Broadway Books</td>\n",
       "      <td>23.0</td>\n",
       "    </tr>\n",
       "    <tr>\n",
       "      <th>4</th>\n",
       "      <td>2313</td>\n",
       "      <td>6338</td>\n",
       "      <td>9</td>\n",
       "      <td>The Sacred Journey : A Memoir of Early Days</td>\n",
       "      <td>Frederick Buechner</td>\n",
       "      <td>1991</td>\n",
       "      <td>HarperSanFrancisco</td>\n",
       "      <td>23.0</td>\n",
       "    </tr>\n",
       "  </tbody>\n",
       "</table>\n",
       "</div>"
      ],
      "text/plain": [
       "   User-ID    ISBN  Book-Rating  \\\n",
       "0   276725   57188            0   \n",
       "1     2313   57188            5   \n",
       "2     2313  208821            9   \n",
       "3     2313  166104            8   \n",
       "4     2313    6338            9   \n",
       "\n",
       "                                          Book-Title         Book-Author  \\\n",
       "0  Dangerous Interloper (Harlequin Collector's Ed...        Penny Jordan   \n",
       "1  Dangerous Interloper (Harlequin Collector's Ed...        Penny Jordan   \n",
       "2                                         Loving God      Charles Colson   \n",
       "3  The 85 Ways to Tie a Tie: The Science and Aest...         Thomas Fink   \n",
       "4        The Sacred Journey : A Memoir of Early Days  Frederick Buechner   \n",
       "\n",
       "  Year-Of-Publication                              Publisher   age  \n",
       "0                1997                              Harlequin  32.0  \n",
       "1                1997                              Harlequin  23.0  \n",
       "2                1995  Billy Graham Evangelistic Association  23.0  \n",
       "3                2000                         Broadway Books  23.0  \n",
       "4                1991                     HarperSanFrancisco  23.0  "
      ]
     },
     "execution_count": 22,
     "metadata": {},
     "output_type": "execute_result"
    }
   ],
   "source": [
    "merged_df.head()"
   ]
  },
  {
   "cell_type": "code",
   "execution_count": 23,
   "id": "4108ecd5-6938-4722-a0a1-7bb9b7471297",
   "metadata": {},
   "outputs": [],
   "source": [
    "# Frequency Encoding\n",
    "user_freq = merged_df['User-ID'].value_counts().to_dict()\n",
    "isbn_freq = merged_df['ISBN'].value_counts().to_dict()\n",
    "\n",
    "merged_df['User-ID'] = merged_df['User-ID'].map(user_freq)\n",
    "merged_df['ISBN'] = merged_df['ISBN'].map(isbn_freq)"
   ]
  },
  {
   "cell_type": "code",
   "execution_count": 24,
   "id": "885fc0b4-32e8-4d1a-8782-489591771abd",
   "metadata": {},
   "outputs": [],
   "source": [
    "merged_df['User-ID'] = merged_df['User-ID'].astype('int32')\n",
    "merged_df['ISBN'] = merged_df['ISBN'].astype('object')\n",
    "merged_df['Book-Rating'] = merged_df['Book-Rating'].astype('float32')\n",
    "merged_df['age'] = pd.to_numeric(merged_df['age'], errors='coerce').astype('float32')"
   ]
  },
  {
   "cell_type": "code",
   "execution_count": 25,
   "id": "856acdf0-1d12-41eb-8dd7-cb220dd27d53",
   "metadata": {},
   "outputs": [
    {
     "name": "stdout",
     "output_type": "stream",
     "text": [
      "<class 'pandas.core.frame.DataFrame'>\n",
      "RangeIndex: 1031162 entries, 0 to 1031161\n",
      "Data columns (total 8 columns):\n",
      " #   Column               Non-Null Count    Dtype  \n",
      "---  ------               --------------    -----  \n",
      " 0   User-ID              1031162 non-null  int32  \n",
      " 1   ISBN                 1031162 non-null  object \n",
      " 2   Book-Rating          1031162 non-null  float32\n",
      " 3   Book-Title           1031162 non-null  object \n",
      " 4   Book-Author          1031162 non-null  object \n",
      " 5   Year-Of-Publication  1031162 non-null  object \n",
      " 6   Publisher            1031162 non-null  object \n",
      " 7   age                  1031162 non-null  float32\n",
      "dtypes: float32(2), int32(1), object(5)\n",
      "memory usage: 51.1+ MB\n"
     ]
    }
   ],
   "source": [
    "merged_df.info()"
   ]
  },
  {
   "cell_type": "code",
   "execution_count": 27,
   "id": "47dc0011-5f26-4f0d-b348-ea2f6a4f866c",
   "metadata": {},
   "outputs": [
    {
     "name": "stdout",
     "output_type": "stream",
     "text": [
      "   User-ID ISBN  Book-Rating  \\\n",
      "0        1   60          0.0   \n",
      "1       37   60          5.0   \n",
      "2       37   23          9.0   \n",
      "3       37   55          8.0   \n",
      "4       37  130          9.0   \n",
      "\n",
      "                                          Book-Title         Book-Author  \\\n",
      "0  Dangerous Interloper (Harlequin Collector's Ed...        Penny Jordan   \n",
      "1  Dangerous Interloper (Harlequin Collector's Ed...        Penny Jordan   \n",
      "2                                         Loving God      Charles Colson   \n",
      "3  The 85 Ways to Tie a Tie: The Science and Aest...         Thomas Fink   \n",
      "4        The Sacred Journey : A Memoir of Early Days  Frederick Buechner   \n",
      "\n",
      "  Year-Of-Publication                              Publisher   age  \n",
      "0                1997                              Harlequin  32.0  \n",
      "1                1997                              Harlequin  23.0  \n",
      "2                1995  Billy Graham Evangelistic Association  23.0  \n",
      "3                2000                         Broadway Books  23.0  \n",
      "4                1991                     HarperSanFrancisco  23.0  \n"
     ]
    }
   ],
   "source": [
    "print(merged_df.head())"
   ]
  },
  {
   "cell_type": "code",
   "execution_count": 28,
   "id": "352db683-be60-47f4-aa13-1d6abc8603ea",
   "metadata": {},
   "outputs": [
    {
     "name": "stdout",
     "output_type": "stream",
     "text": [
      "<class 'pandas.core.frame.DataFrame'>\n",
      "RangeIndex: 1031162 entries, 0 to 1031161\n",
      "Data columns (total 8 columns):\n",
      " #   Column               Non-Null Count    Dtype  \n",
      "---  ------               --------------    -----  \n",
      " 0   User-ID              1031162 non-null  int32  \n",
      " 1   ISBN                 1031162 non-null  object \n",
      " 2   Book-Rating          1031162 non-null  float32\n",
      " 3   Book-Title           1031162 non-null  object \n",
      " 4   Book-Author          1031162 non-null  object \n",
      " 5   Year-Of-Publication  1031162 non-null  object \n",
      " 6   Publisher            1031162 non-null  object \n",
      " 7   age                  1031162 non-null  float32\n",
      "dtypes: float32(2), int32(1), object(5)\n",
      "memory usage: 51.1+ MB\n"
     ]
    }
   ],
   "source": [
    "merged_df.info()"
   ]
  },
  {
   "cell_type": "code",
   "execution_count": 32,
   "id": "4062bc4c-7b73-481e-8a2a-a50df490d1c2",
   "metadata": {},
   "outputs": [],
   "source": [
    "def safe_convert_year(df, column):\n",
    "    df[column] = pd.to_numeric(df[column], errors='coerce')\n",
    "    df[column].fillna(0, inplace=True)\n",
    "    df[column] = df[column].astype(int)\n",
    "\n",
    "safe_convert_year(merged_df, 'Year-Of-Publication')\n"
   ]
  },
  {
   "cell_type": "code",
   "execution_count": 33,
   "id": "43480941-26f0-47b9-9b68-2a7b3d824a0c",
   "metadata": {},
   "outputs": [],
   "source": [
    "def normalize_rating(rating):\n",
    "    normalized = int(rating // 2)\n",
    "    return min(max(normalized, 0), 4)  # Ensure normalized rating is within [0, 4]"
   ]
  },
  {
   "cell_type": "code",
   "execution_count": 36,
   "id": "8897b1c1-dba7-4814-b93a-b7cd003130fb",
   "metadata": {},
   "outputs": [],
   "source": [
    "merged_df['Book-Rating'] = merged_df['Book-Rating'].apply(normalize_rating)"
   ]
  },
  {
   "cell_type": "code",
   "execution_count": 37,
   "id": "0d78109c-622a-4675-a7bd-3905d137386e",
   "metadata": {},
   "outputs": [],
   "source": [
    "assert merged_df['Book-Rating'].between(0, 4).all(), \"All labels should be in the range [0, 4]\""
   ]
  },
  {
   "cell_type": "code",
   "execution_count": 38,
   "id": "ce771a0c-c636-405d-9841-f4c20feaf1a4",
   "metadata": {},
   "outputs": [
    {
     "name": "stdout",
     "output_type": "stream",
     "text": [
      "<class 'pandas.core.frame.DataFrame'>\n",
      "RangeIndex: 1031162 entries, 0 to 1031161\n",
      "Data columns (total 8 columns):\n",
      " #   Column               Non-Null Count    Dtype  \n",
      "---  ------               --------------    -----  \n",
      " 0   User-ID              1031162 non-null  int32  \n",
      " 1   ISBN                 1031162 non-null  object \n",
      " 2   Book-Rating          1031162 non-null  int64  \n",
      " 3   Book-Title           1031162 non-null  object \n",
      " 4   Book-Author          1031162 non-null  object \n",
      " 5   Year-Of-Publication  1031162 non-null  int32  \n",
      " 6   Publisher            1031162 non-null  object \n",
      " 7   age                  1031162 non-null  float32\n",
      "dtypes: float32(1), int32(2), int64(1), object(4)\n",
      "memory usage: 51.1+ MB\n"
     ]
    }
   ],
   "source": [
    "merged_df.info()"
   ]
  },
  {
   "cell_type": "code",
   "execution_count": 39,
   "id": "c3c63294-01d8-4308-b49e-dcc3fa35b70f",
   "metadata": {},
   "outputs": [],
   "source": [
    "merged_df.to_csv('Datasets/Book recommendation chatbot/Train.csv', index=False)"
   ]
  },
  {
   "cell_type": "code",
   "execution_count": null,
   "id": "d402f9cc-06e2-4960-ac7a-453cb729fd0e",
   "metadata": {},
   "outputs": [],
   "source": []
  }
 ],
 "metadata": {
  "kernelspec": {
   "display_name": "Python 3 (ipykernel)",
   "language": "python",
   "name": "python3"
  },
  "language_info": {
   "codemirror_mode": {
    "name": "ipython",
    "version": 3
   },
   "file_extension": ".py",
   "mimetype": "text/x-python",
   "name": "python",
   "nbconvert_exporter": "python",
   "pygments_lexer": "ipython3",
   "version": "3.10.6"
  }
 },
 "nbformat": 4,
 "nbformat_minor": 5
}
