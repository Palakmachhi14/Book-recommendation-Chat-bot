{
 "cells": [
  {
   "cell_type": "code",
   "execution_count": 2,
   "id": "156c9966-6825-4b43-b854-b49039affea1",
   "metadata": {},
   "outputs": [],
   "source": [
    "import pandas as pd\n",
    "import numpy as np"
   ]
  },
  {
   "cell_type": "code",
   "execution_count": 5,
   "id": "de98478b-b542-4343-8b5f-2634ca5e6fc8",
   "metadata": {},
   "outputs": [],
   "source": [
    "df = pd.read_csv(\"books.csv\")"
   ]
  },
  {
   "cell_type": "code",
   "execution_count": 6,
   "id": "60b7edec-9572-420a-910e-752ccfaf8b5e",
   "metadata": {},
   "outputs": [
    {
     "name": "stdout",
     "output_type": "stream",
     "text": [
      "<class 'pandas.core.frame.DataFrame'>\n",
      "RangeIndex: 11127 entries, 0 to 11126\n",
      "Data columns (total 13 columns):\n",
      " #   Column              Non-Null Count  Dtype \n",
      "---  ------              --------------  ----- \n",
      " 0   bookID              11127 non-null  int64 \n",
      " 1   title               11127 non-null  object\n",
      " 2   authors             11127 non-null  object\n",
      " 3   average_rating      11127 non-null  object\n",
      " 4   isbn                11127 non-null  object\n",
      " 5   isbn13              11127 non-null  object\n",
      " 6   language_code       11127 non-null  object\n",
      " 7     num_pages         11127 non-null  object\n",
      " 8   ratings_count       11127 non-null  int64 \n",
      " 9   text_reviews_count  11127 non-null  int64 \n",
      " 10  publication_date    11127 non-null  object\n",
      " 11  publisher           11127 non-null  object\n",
      " 12  Unnamed: 12         3 non-null      object\n",
      "dtypes: int64(3), object(10)\n",
      "memory usage: 1.1+ MB\n"
     ]
    }
   ],
   "source": [
    "df.info()"
   ]
  },
  {
   "cell_type": "code",
   "execution_count": null,
   "id": "2332f5ca-316a-4568-ad3b-a0eca790d5be",
   "metadata": {},
   "outputs": [],
   "source": [
    "df.drop(columns = ['num_pages', ])"
   ]
  }
 ],
 "metadata": {
  "kernelspec": {
   "display_name": "Python 3 (ipykernel)",
   "language": "python",
   "name": "python3"
  },
  "language_info": {
   "codemirror_mode": {
    "name": "ipython",
    "version": 3
   },
   "file_extension": ".py",
   "mimetype": "text/x-python",
   "name": "python",
   "nbconvert_exporter": "python",
   "pygments_lexer": "ipython3",
   "version": "3.10.6"
  }
 },
 "nbformat": 4,
 "nbformat_minor": 5
}
