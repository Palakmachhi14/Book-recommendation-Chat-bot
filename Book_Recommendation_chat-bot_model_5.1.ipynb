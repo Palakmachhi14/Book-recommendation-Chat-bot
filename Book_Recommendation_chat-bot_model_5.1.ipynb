{
 "cells": [
  {
   "cell_type": "code",
   "execution_count": 1,
   "id": "de023eb1-28b0-4ec5-9684-f7e201cf3600",
   "metadata": {},
   "outputs": [
    {
     "name": "stdout",
     "output_type": "stream",
     "text": [
      "WARNING:tensorflow:From C:\\Users\\Palak\\AppData\\Roaming\\Python\\Python310\\site-packages\\tf_keras\\src\\losses.py:2976: The name tf.losses.sparse_softmax_cross_entropy is deprecated. Please use tf.compat.v1.losses.sparse_softmax_cross_entropy instead.\n",
      "\n"
     ]
    }
   ],
   "source": [
    "from transformers import BertTokenizer, BertForSequenceClassification, Trainer, TrainingArguments"
   ]
  },
  {
   "cell_type": "code",
   "execution_count": 2,
   "id": "e97bc35d-e481-4ff1-97fb-19299d6768a3",
   "metadata": {},
   "outputs": [],
   "source": [
    "import tensorflow as tf"
   ]
  },
  {
   "cell_type": "code",
   "execution_count": 3,
   "id": "069cde1b-1d1d-48d7-a7ac-ab132858b1bd",
   "metadata": {},
   "outputs": [],
   "source": [
    "labels = tf.constant([0, 1, 2])  # Example labels\n",
    "logits = tf.random.normal([3, 3])  # Example logits\n",
    "\n",
    "loss = tf.compat.v1.losses.sparse_softmax_cross_entropy(labels = labels, logits = logits)"
   ]
  },
  {
   "cell_type": "code",
   "execution_count": 4,
   "id": "12a847e2-2707-403a-8fdb-00e28bb28cc4",
   "metadata": {},
   "outputs": [],
   "source": [
    "import pandas as pd"
   ]
  },
  {
   "cell_type": "code",
   "execution_count": 5,
   "id": "1901d604-9082-4406-93d8-d0d5e869f248",
   "metadata": {},
   "outputs": [
    {
     "name": "stderr",
     "output_type": "stream",
     "text": [
      "C:\\Users\\Palak\\AppData\\Local\\Temp\\ipykernel_6448\\251421011.py:1: DtypeWarning: Columns (5) have mixed types. Specify dtype option on import or set low_memory=False.\n",
      "  data = pd.read_csv('Datasets/Book recommendation chatbot/Train.csv')\n"
     ]
    }
   ],
   "source": [
    "data = pd.read_csv('Datasets/Book recommendation chatbot/Train.csv')"
   ]
  },
  {
   "cell_type": "code",
   "execution_count": 6,
   "id": "700277f8-0bea-4f66-9c21-5ad8c06cfab1",
   "metadata": {},
   "outputs": [
    {
     "name": "stdout",
     "output_type": "stream",
     "text": [
      "<class 'pandas.core.frame.DataFrame'>\n",
      "RangeIndex: 1031161 entries, 0 to 1031160\n",
      "Data columns (total 9 columns):\n",
      " #   Column               Non-Null Count    Dtype  \n",
      "---  ------               --------------    -----  \n",
      " 0   User-ID              1031161 non-null  int64  \n",
      " 1   ISBN                 1031161 non-null  int64  \n",
      " 2   Book-Rating          1031161 non-null  float64\n",
      " 3   Book-Title           1031161 non-null  object \n",
      " 4   Book-Author          1031161 non-null  object \n",
      " 5   Year-Of-Publication  1031161 non-null  object \n",
      " 6   Publisher            1031161 non-null  object \n",
      " 7   Location             1031161 non-null  object \n",
      " 8   age                  1031161 non-null  float64\n",
      "dtypes: float64(2), int64(2), object(5)\n",
      "memory usage: 70.8+ MB\n"
     ]
    }
   ],
   "source": [
    "data.info()"
   ]
  },
  {
   "cell_type": "code",
   "execution_count": 7,
   "id": "545df2f0-0629-4e47-ad1b-b020cc72eec2",
   "metadata": {},
   "outputs": [],
   "source": [
    "data.drop('Location', axis = 1, inplace = True) "
   ]
  },
  {
   "cell_type": "code",
   "execution_count": 8,
   "id": "c55b776d-5561-4d45-b292-36621cf619c6",
   "metadata": {},
   "outputs": [],
   "source": [
    "def safe_convert_year(df, column):\n",
    "    df[column] = pd.to_numeric(df[column], errors='coerce')\n",
    "    df[column].fillna(0, inplace=True)\n",
    "    df[column] = df[column].astype(int)\n",
    "\n",
    "safe_convert_year(data, 'Year-Of-Publication')\n"
   ]
  },
  {
   "cell_type": "code",
   "execution_count": 9,
   "id": "76519485-eb66-4778-89b3-bb49b8a8c0ad",
   "metadata": {},
   "outputs": [
    {
     "data": {
      "text/html": [
       "<div>\n",
       "<style scoped>\n",
       "    .dataframe tbody tr th:only-of-type {\n",
       "        vertical-align: middle;\n",
       "    }\n",
       "\n",
       "    .dataframe tbody tr th {\n",
       "        vertical-align: top;\n",
       "    }\n",
       "\n",
       "    .dataframe thead th {\n",
       "        text-align: right;\n",
       "    }\n",
       "</style>\n",
       "<table border=\"1\" class=\"dataframe\">\n",
       "  <thead>\n",
       "    <tr style=\"text-align: right;\">\n",
       "      <th></th>\n",
       "      <th>User-ID</th>\n",
       "      <th>ISBN</th>\n",
       "      <th>Book-Rating</th>\n",
       "      <th>Book-Title</th>\n",
       "      <th>Book-Author</th>\n",
       "      <th>Year-Of-Publication</th>\n",
       "      <th>Publisher</th>\n",
       "      <th>age</th>\n",
       "    </tr>\n",
       "  </thead>\n",
       "  <tbody>\n",
       "    <tr>\n",
       "      <th>0</th>\n",
       "      <td>1</td>\n",
       "      <td>60</td>\n",
       "      <td>0.0</td>\n",
       "      <td>Dangerous Interloper (Harlequin Collector's Ed...</td>\n",
       "      <td>Penny Jordan</td>\n",
       "      <td>1997</td>\n",
       "      <td>Harlequin</td>\n",
       "      <td>32.0</td>\n",
       "    </tr>\n",
       "    <tr>\n",
       "      <th>1</th>\n",
       "      <td>37</td>\n",
       "      <td>60</td>\n",
       "      <td>5.0</td>\n",
       "      <td>Dangerous Interloper (Harlequin Collector's Ed...</td>\n",
       "      <td>Penny Jordan</td>\n",
       "      <td>1997</td>\n",
       "      <td>Harlequin</td>\n",
       "      <td>34.0</td>\n",
       "    </tr>\n",
       "    <tr>\n",
       "      <th>2</th>\n",
       "      <td>37</td>\n",
       "      <td>23</td>\n",
       "      <td>9.0</td>\n",
       "      <td>Loving God</td>\n",
       "      <td>Charles Colson</td>\n",
       "      <td>1995</td>\n",
       "      <td>Billy Graham Evangelistic Association</td>\n",
       "      <td>34.0</td>\n",
       "    </tr>\n",
       "    <tr>\n",
       "      <th>3</th>\n",
       "      <td>37</td>\n",
       "      <td>55</td>\n",
       "      <td>8.0</td>\n",
       "      <td>The 85 Ways to Tie a Tie: The Science and Aest...</td>\n",
       "      <td>Thomas Fink</td>\n",
       "      <td>2000</td>\n",
       "      <td>Broadway Books</td>\n",
       "      <td>34.0</td>\n",
       "    </tr>\n",
       "    <tr>\n",
       "      <th>4</th>\n",
       "      <td>37</td>\n",
       "      <td>130</td>\n",
       "      <td>9.0</td>\n",
       "      <td>The Sacred Journey : A Memoir of Early Days</td>\n",
       "      <td>Frederick Buechner</td>\n",
       "      <td>1991</td>\n",
       "      <td>HarperSanFrancisco</td>\n",
       "      <td>34.0</td>\n",
       "    </tr>\n",
       "  </tbody>\n",
       "</table>\n",
       "</div>"
      ],
      "text/plain": [
       "   User-ID  ISBN  Book-Rating  \\\n",
       "0        1    60          0.0   \n",
       "1       37    60          5.0   \n",
       "2       37    23          9.0   \n",
       "3       37    55          8.0   \n",
       "4       37   130          9.0   \n",
       "\n",
       "                                          Book-Title         Book-Author  \\\n",
       "0  Dangerous Interloper (Harlequin Collector's Ed...        Penny Jordan   \n",
       "1  Dangerous Interloper (Harlequin Collector's Ed...        Penny Jordan   \n",
       "2                                         Loving God      Charles Colson   \n",
       "3  The 85 Ways to Tie a Tie: The Science and Aest...         Thomas Fink   \n",
       "4        The Sacred Journey : A Memoir of Early Days  Frederick Buechner   \n",
       "\n",
       "   Year-Of-Publication                              Publisher   age  \n",
       "0                 1997                              Harlequin  32.0  \n",
       "1                 1997                              Harlequin  34.0  \n",
       "2                 1995  Billy Graham Evangelistic Association  34.0  \n",
       "3                 2000                         Broadway Books  34.0  \n",
       "4                 1991                     HarperSanFrancisco  34.0  "
      ]
     },
     "execution_count": 9,
     "metadata": {},
     "output_type": "execute_result"
    }
   ],
   "source": [
    "data.head()"
   ]
  },
  {
   "cell_type": "code",
   "execution_count": 10,
   "id": "2d9a8724-d1f7-4dbe-8443-d6168332011d",
   "metadata": {},
   "outputs": [],
   "source": [
    "data = pd.read_csv('Datasets/Book recommendation chatbot/Train.csv', low_memory = False)"
   ]
  },
  {
   "cell_type": "code",
   "execution_count": 11,
   "id": "6bc2420e-96d7-46f0-b7be-1d4453e9efbf",
   "metadata": {},
   "outputs": [],
   "source": [
    "def normalize_rating(rating):\n",
    "    normalized = int(rating // 2)\n",
    "    return min(max(normalized, 0), 4)  # Ensure normalized rating is within [0, 4]"
   ]
  },
  {
   "cell_type": "code",
   "execution_count": 12,
   "id": "774ab3a3-94cf-45ea-a10f-0cd4f7602c4e",
   "metadata": {},
   "outputs": [],
   "source": [
    "data['Book-Rating'] = data['Book-Rating'].apply(normalize_rating)"
   ]
  },
  {
   "cell_type": "code",
   "execution_count": 13,
   "id": "47b69f97-0bbb-48c6-88ba-48fb3fed784a",
   "metadata": {},
   "outputs": [],
   "source": [
    "assert data['Book-Rating'].between(0, 4).all(), \"All labels should be in the range [0, 4]\""
   ]
  },
  {
   "cell_type": "code",
   "execution_count": 14,
   "id": "0672b71e-6a82-4928-bd3b-e273b8c03849",
   "metadata": {},
   "outputs": [],
   "source": [
    "from sklearn.model_selection import train_test_split"
   ]
  },
  {
   "cell_type": "code",
   "execution_count": 15,
   "id": "c4e4b971-f684-45a7-a23a-efe78736464a",
   "metadata": {},
   "outputs": [],
   "source": [
    "train_data, val_data = train_test_split(data, test_size = 0.2, random_state = 42)"
   ]
  },
  {
   "cell_type": "code",
   "execution_count": 16,
   "id": "82735dd5-aa91-4aec-a05f-1a8b3c9aa2ab",
   "metadata": {},
   "outputs": [],
   "source": [
    "tokenizer = BertTokenizer.from_pretrained('bert-base-uncased')"
   ]
  },
  {
   "cell_type": "code",
   "execution_count": 17,
   "id": "d4892ef1-eeb0-4ea6-8efa-7fb36b634609",
   "metadata": {},
   "outputs": [],
   "source": [
    "def tokenize_data(data):\n",
    "    return tokenizer(\n",
    "        data['Book-Title'].tolist(),\n",
    "        padding = True,\n",
    "        truncation = True,\n",
    "        return_tensors = \"pt\"\n",
    "    )"
   ]
  },
  {
   "cell_type": "code",
   "execution_count": 18,
   "id": "037255ae-9fb0-459f-888a-7fda16d0a652",
   "metadata": {},
   "outputs": [],
   "source": [
    "train_encodings = tokenize_data(train_data)\n",
    "val_encodings = tokenize_data(val_data)"
   ]
  },
  {
   "cell_type": "markdown",
   "id": "84604b56-b303-4ec4-b22f-1b594bd2a664",
   "metadata": {},
   "source": [
    "Fine-Tuning Model\n",
    "\n"
   ]
  },
  {
   "cell_type": "code",
   "execution_count": 19,
   "id": "d827c132-9ce7-4abe-9d29-7f005c213bbb",
   "metadata": {},
   "outputs": [],
   "source": [
    "import torch\n",
    "from torch.utils.data import Dataset, DataLoader"
   ]
  },
  {
   "cell_type": "code",
   "execution_count": 20,
   "id": "8af8ec71-b4a3-4a73-9ca6-5836ed5fe4ec",
   "metadata": {},
   "outputs": [],
   "source": [
    "class CustomBookDataset(Dataset):\n",
    "    def __init__(self, encodings, labels):\n",
    "        self.encodings = encodings\n",
    "        self.labels = labels\n",
    "\n",
    "    def __getitem__(self, idx):\n",
    "        item = {key: val[idx] for key, val in self.encodings.items()}\n",
    "        item['labels'] = torch.tensor(self.labels[idx], dtype = torch.long)\n",
    "        return item\n",
    "\n",
    "    def __len__(self):\n",
    "        return len(self.labels)\n"
   ]
  },
  {
   "cell_type": "code",
   "execution_count": 21,
   "id": "b9746e94-38fd-4c8b-842c-c7f254f80889",
   "metadata": {},
   "outputs": [],
   "source": [
    "train_labels = train_data['Book-Rating'].tolist()\n",
    "val_labels = val_data['Book-Rating'].tolist()"
   ]
  },
  {
   "cell_type": "code",
   "execution_count": 22,
   "id": "e155c416-8a21-4df7-98a0-4deeb0efaa4c",
   "metadata": {},
   "outputs": [],
   "source": [
    "train_dataset = CustomBookDataset(train_encodings, train_labels)\n",
    "val_dataset = CustomBookDataset(val_encodings, val_labels)"
   ]
  },
  {
   "cell_type": "code",
   "execution_count": 23,
   "id": "0660cce6-dcda-4a38-8460-d181b44231c8",
   "metadata": {},
   "outputs": [
    {
     "name": "stderr",
     "output_type": "stream",
     "text": [
      "Some weights of BertForSequenceClassification were not initialized from the model checkpoint at bert-base-uncased and are newly initialized because the shapes did not match:\n",
      "- classifier.bias: found shape torch.Size([1]) in the checkpoint and torch.Size([5]) in the model instantiated\n",
      "- classifier.weight: found shape torch.Size([1, 768]) in the checkpoint and torch.Size([5, 768]) in the model instantiated\n",
      "You should probably TRAIN this model on a down-stream task to be able to use it for predictions and inference.\n"
     ]
    }
   ],
   "source": [
    "model = BertForSequenceClassification.from_pretrained(\n",
    "    'bert-base-uncased',\n",
    "    num_labels = 5,\n",
    "    ignore_mismatched_sizes = True\n",
    ")"
   ]
  },
  {
   "cell_type": "code",
   "execution_count": 24,
   "id": "b44b6e13-1308-4d78-b0e7-6cd3503989eb",
   "metadata": {},
   "outputs": [],
   "source": [
    "training_args = TrainingArguments(\n",
    "    output_dir = './Results_5.1',\n",
    "    num_train_epochs = 3,\n",
    "    per_device_train_batch_size = 32,\n",
    "    per_device_eval_batch_size = 32,\n",
    "    warmup_steps = 500,\n",
    "    weight_decay = 0.01,\n",
    "    logging_dir = './Logs_5.1',\n",
    "    logging_steps = 10,\n",
    "    eval_strategy=\"steps\",\n",
    "    eval_steps = 50,\n",
    "    save_steps = 100\n",
    ")"
   ]
  },
  {
   "cell_type": "code",
   "execution_count": 25,
   "id": "62c26830-394a-4918-9451-104ea891f016",
   "metadata": {},
   "outputs": [],
   "source": [
    "trainer = Trainer(\n",
    "    model = model,\n",
    "    args = training_args,\n",
    "    train_dataset = train_dataset,\n",
    "    eval_dataset = val_dataset\n",
    ")"
   ]
  },
  {
   "cell_type": "code",
   "execution_count": null,
   "id": "af3e42c6-96fc-46eb-bdb7-598428767dbf",
   "metadata": {
    "scrolled": true
   },
   "outputs": [
    {
     "name": "stderr",
     "output_type": "stream",
     "text": [
      "\u001b[34m\u001b[1mwandb\u001b[0m: \u001b[33mWARNING\u001b[0m The `run_name` is currently set to the same value as `TrainingArguments.output_dir`. If this was not intended, please specify a different run name by setting the `TrainingArguments.run_name` parameter.\n",
      "\u001b[34m\u001b[1mwandb\u001b[0m: Currently logged in as: \u001b[33mpalak-coder\u001b[0m (\u001b[33mpalak-coder14\u001b[0m). Use \u001b[1m`wandb login --relogin`\u001b[0m to force relogin\n"
     ]
    },
    {
     "data": {
      "text/html": [
       "Tracking run with wandb version 0.17.4"
      ],
      "text/plain": [
       "<IPython.core.display.HTML object>"
      ]
     },
     "metadata": {},
     "output_type": "display_data"
    },
    {
     "data": {
      "text/html": [
       "Run data is saved locally in <code>D:\\Palak\\INTEL Unnati\\Finalized Topic\\Code\\wandb\\run-20240713_224119-cqf33so0</code>"
      ],
      "text/plain": [
       "<IPython.core.display.HTML object>"
      ]
     },
     "metadata": {},
     "output_type": "display_data"
    },
    {
     "data": {
      "text/html": [
       "Syncing run <strong><a href='https://wandb.ai/palak-coder14/huggingface/runs/cqf33so0' target=\"_blank\">./Results_5.1</a></strong> to <a href='https://wandb.ai/palak-coder14/huggingface' target=\"_blank\">Weights & Biases</a> (<a href='https://wandb.me/run' target=\"_blank\">docs</a>)<br/>"
      ],
      "text/plain": [
       "<IPython.core.display.HTML object>"
      ]
     },
     "metadata": {},
     "output_type": "display_data"
    },
    {
     "data": {
      "text/html": [
       " View project at <a href='https://wandb.ai/palak-coder14/huggingface' target=\"_blank\">https://wandb.ai/palak-coder14/huggingface</a>"
      ],
      "text/plain": [
       "<IPython.core.display.HTML object>"
      ]
     },
     "metadata": {},
     "output_type": "display_data"
    },
    {
     "data": {
      "text/html": [
       " View run at <a href='https://wandb.ai/palak-coder14/huggingface/runs/cqf33so0' target=\"_blank\">https://wandb.ai/palak-coder14/huggingface/runs/cqf33so0</a>"
      ],
      "text/plain": [
       "<IPython.core.display.HTML object>"
      ]
     },
     "metadata": {},
     "output_type": "display_data"
    },
    {
     "data": {
      "text/html": [
       "\n",
       "    <div>\n",
       "      \n",
       "      <progress value='51' max='77337' style='width:300px; height:20px; vertical-align: middle;'></progress>\n",
       "      [   51/77337 24:58 < 656:42:30, 0.03 it/s, Epoch 0.00/3]\n",
       "    </div>\n",
       "    <table border=\"1\" class=\"dataframe\">\n",
       "  <thead>\n",
       " <tr style=\"text-align: left;\">\n",
       "      <th>Step</th>\n",
       "      <th>Training Loss</th>\n",
       "      <th>Validation Loss</th>\n",
       "    </tr>\n",
       "  </thead>\n",
       "  <tbody>\n",
       "  </tbody>\n",
       "</table><p>\n",
       "    <div>\n",
       "      \n",
       "      <progress value='722' max='6445' style='width:300px; height:20px; vertical-align: middle;'></progress>\n",
       "      [ 722/6445 1:37:10 < 12:51:16, 0.12 it/s]\n",
       "    </div>\n",
       "    "
      ],
      "text/plain": [
       "<IPython.core.display.HTML object>"
      ]
     },
     "metadata": {},
     "output_type": "display_data"
    }
   ],
   "source": [
    "trainer.train()"
   ]
  },
  {
   "cell_type": "code",
   "execution_count": null,
   "id": "7f50f3fd-3409-4968-875c-798af442f26e",
   "metadata": {},
   "outputs": [],
   "source": [
    "output_dir = './trained_model'\n",
    "model.save_pretrained(output_dir)\n",
    "tokenizer.save_pretrained(output_dir)"
   ]
  }
 ],
 "metadata": {
  "kernelspec": {
   "display_name": "Python 3 (ipykernel)",
   "language": "python",
   "name": "python3"
  },
  "language_info": {
   "codemirror_mode": {
    "name": "ipython",
    "version": 3
   },
   "file_extension": ".py",
   "mimetype": "text/x-python",
   "name": "python",
   "nbconvert_exporter": "python",
   "pygments_lexer": "ipython3",
   "version": "3.10.6"
  }
 },
 "nbformat": 4,
 "nbformat_minor": 5
}
